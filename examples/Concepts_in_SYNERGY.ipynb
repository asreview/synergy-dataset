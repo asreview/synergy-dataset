{
 "cells": [
  {
   "cell_type": "markdown",
   "id": "450807d2",
   "metadata": {},
   "source": [
    "# How concepts in SYNERGY are computed\n",
    "\n",
    "Concepts, also known as topics, are attached to each OpenAlex record. They are generated with an machine leanring model. You can indetify at least 3 different types of concepts per dataset in SYNERGY:\n",
    "\n",
    "- The main (level 0) concept of the publication record\n",
    "- The average main (level 0) concept of all records in the dataset (the search)\n",
    "- The average main (level 0) concept of all included records in the dataset\n",
    "\n",
    "See the table at the bottom of this notebook for the topic per dataset"
   ]
  },
  {
   "cell_type": "code",
   "execution_count": 1,
   "id": "a167125b",
   "metadata": {},
   "outputs": [],
   "source": [
    "import synergy_dataset as sd\n",
    "import pandas as pd"
   ]
  },
  {
   "cell_type": "code",
   "execution_count": 2,
   "id": "b6d79692",
   "metadata": {},
   "outputs": [],
   "source": [
    "# function to standardize concept data\n",
    "\n",
    "def flatten_concepts(ds, level=0):\n",
    "    result = []\n",
    "    for openalex_id, record in ds.to_dict([\"concepts\"]).items():\n",
    "\n",
    "        d = {\"openalex_id\": openalex_id,\n",
    "             \"label_included\": record[\"label_included\"]}\n",
    "\n",
    "        for c in record[\"concepts\"]:\n",
    "            if c[\"level\"] == level:\n",
    "                d[c[\"display_name\"]] = c[\"score\"]\n",
    "\n",
    "        result.append(d)\n",
    "    \n",
    "    return pd.DataFrame(result)\n",
    "\n",
    "# test = sd.Dataset(\"Brouwer_2019\")\n",
    "# flatten_concepts(test)"
   ]
  },
  {
   "cell_type": "code",
   "execution_count": null,
   "id": "cb295c0a",
   "metadata": {},
   "outputs": [],
   "source": [
    "keys = [d.name for d in sd.iter_datasets()]\n",
    "df = pd.concat([flatten_concepts(d) for d in sd.iter_datasets()], keys=keys)\n",
    "df"
   ]
  },
  {
   "cell_type": "markdown",
   "id": "0af25861",
   "metadata": {},
   "source": [
    "The following table shows the average concept scores for all records in the dataset. "
   ]
  },
  {
   "cell_type": "code",
   "execution_count": null,
   "id": "6a0246aa",
   "metadata": {},
   "outputs": [],
   "source": [
    "concepts_per_dataset = df.drop([\"label_included\", \"openalex_id\"], axis=1).astype(float).fillna(0).groupby(level=0).mean()\n",
    "concepts_per_dataset"
   ]
  },
  {
   "cell_type": "markdown",
   "id": "e531ce29",
   "metadata": {},
   "source": [
    "Same for the inclusions per dataset"
   ]
  },
  {
   "cell_type": "code",
   "execution_count": null,
   "id": "a78dc757",
   "metadata": {},
   "outputs": [],
   "source": [
    "concepts_per_dataset_incl = df[df[\"label_included\"] == 1].drop([\"label_included\", \"openalex_id\"], axis=1).astype(float).fillna(0).groupby(level=0).mean()\n",
    "concepts_per_dataset_incl"
   ]
  },
  {
   "cell_type": "code",
   "execution_count": null,
   "id": "a11397ae",
   "metadata": {},
   "outputs": [],
   "source": [
    "st = concepts_per_dataset.stack()\n",
    "st = st[st.groupby(level=0).transform(max) == st].reset_index(level=1)\n",
    "st.columns = [\"concept_search\", \"score_search\"]\n",
    "\n",
    "st_incl = concepts_per_dataset_incl.stack()\n",
    "st_incl = st_incl[st_incl.groupby(level=0).transform(max) == st_incl].reset_index(level=1)\n",
    "st_incl.columns = [\"concept_inclusions\", \"score_inclusions\"]\n",
    "\n",
    "concepts_pub = []\n",
    "for d in sd.iter_datasets():\n",
    "    r = {\"name\": d.name, \"concept_publication\": filter(lambda x: (x[\"level\"] == 0), d.metadata[\"publication\"][\"concepts\"]).__next__()[\"display_name\"]}\n",
    "    concepts_pub.append(r)\n",
    "    \n",
    "df_pub = pd.DataFrame(concepts_pub).set_index(\"name\")"
   ]
  },
  {
   "cell_type": "code",
   "execution_count": null,
   "id": "c56c6035",
   "metadata": {},
   "outputs": [],
   "source": [
    "df_pub.join(st[\"concept_search\"]).join(st_incl[\"concept_inclusions\"])"
   ]
  }
 ],
 "metadata": {
  "kernelspec": {
   "display_name": "Python 3 (ipykernel)",
   "language": "python",
   "name": "python3"
  },
  "language_info": {
   "codemirror_mode": {
    "name": "ipython",
    "version": 3
   },
   "file_extension": ".py",
   "mimetype": "text/x-python",
   "name": "python",
   "nbconvert_exporter": "python",
   "pygments_lexer": "ipython3",
   "version": "3.9.7"
  }
 },
 "nbformat": 4,
 "nbformat_minor": 5
}
