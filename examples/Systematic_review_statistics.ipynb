{
 "cells": [
  {
   "cell_type": "markdown",
   "id": "db524ce0",
   "metadata": {},
   "source": [
    "# Statistics of the SYNERGY dataset\n",
    "\n",
    "This notebook shows basic statistics of the synergy dataset. PRs to improve this notebook and add more general descriptives are very welcome. "
   ]
  },
  {
   "cell_type": "code",
   "execution_count": 1,
   "id": "3b258a27",
   "metadata": {},
   "outputs": [],
   "source": [
    "from pprint import pprint\n",
    "\n",
    "import pandas as pd\n",
    "\n",
    "from synergy_dataset import Dataset, iter_datasets"
   ]
  },
  {
   "cell_type": "code",
   "execution_count": 2,
   "id": "fb92a7ad",
   "metadata": {},
   "outputs": [],
   "source": [
    "df_synergy = pd.concat([d.to_frame() for d in iter_datasets()])"
   ]
  },
  {
   "cell_type": "code",
   "execution_count": 3,
   "id": "7a67afb1",
   "metadata": {},
   "outputs": [
    {
     "data": {
      "text/html": [
       "<div>\n",
       "<style scoped>\n",
       "    .dataframe tbody tr th:only-of-type {\n",
       "        vertical-align: middle;\n",
       "    }\n",
       "\n",
       "    .dataframe tbody tr th {\n",
       "        vertical-align: top;\n",
       "    }\n",
       "\n",
       "    .dataframe thead th {\n",
       "        text-align: right;\n",
       "    }\n",
       "</style>\n",
       "<table border=\"1\" class=\"dataframe\">\n",
       "  <thead>\n",
       "    <tr style=\"text-align: right;\">\n",
       "      <th></th>\n",
       "      <th>doi</th>\n",
       "      <th>title</th>\n",
       "      <th>abstract</th>\n",
       "      <th>label_included</th>\n",
       "    </tr>\n",
       "    <tr>\n",
       "      <th>openalex_id</th>\n",
       "      <th></th>\n",
       "      <th></th>\n",
       "      <th></th>\n",
       "      <th></th>\n",
       "    </tr>\n",
       "  </thead>\n",
       "  <tbody>\n",
       "    <tr>\n",
       "      <th>https://openalex.org/W1971651073</th>\n",
       "      <td>https://doi.org/10.1016/j.exger.2007.12.002</td>\n",
       "      <td>Zinc supplementation for the treatment or prev...</td>\n",
       "      <td>Zinc is a nutritionally essential trace elemen...</td>\n",
       "      <td>0</td>\n",
       "    </tr>\n",
       "    <tr>\n",
       "      <th>https://openalex.org/W2060266518</th>\n",
       "      <td>https://doi.org/10.1016/s1367-5931(03)00018-8</td>\n",
       "      <td>Copper in medicine</td>\n",
       "      <td>Copper has been found to be causative in sever...</td>\n",
       "      <td>0</td>\n",
       "    </tr>\n",
       "    <tr>\n",
       "      <th>https://openalex.org/W1985329347</th>\n",
       "      <td>https://doi.org/10.1016/s0162-0134(01)00376-2</td>\n",
       "      <td>Roles of metallothionein in copper homeostasis...</td>\n",
       "      <td>Metallothionein (MT) protects the body from bo...</td>\n",
       "      <td>0</td>\n",
       "    </tr>\n",
       "    <tr>\n",
       "      <th>https://openalex.org/W2033425122</th>\n",
       "      <td>https://doi.org/10.1016/s0140-6736(60)90109-4</td>\n",
       "      <td>TREATMENT OF WILSON'S DISEASE WITH PENICILLAMINE</td>\n",
       "      <td>None</td>\n",
       "      <td>0</td>\n",
       "    </tr>\n",
       "    <tr>\n",
       "      <th>https://openalex.org/W2174281073</th>\n",
       "      <td>https://doi.org/10.1016/s0016-5085(76)80455-6</td>\n",
       "      <td>Effects of Anticopper Therapy on Hepatocellula...</td>\n",
       "      <td>Liver biopsy specimens from 7 patients with Wi...</td>\n",
       "      <td>0</td>\n",
       "    </tr>\n",
       "    <tr>\n",
       "      <th>...</th>\n",
       "      <td>...</td>\n",
       "      <td>...</td>\n",
       "      <td>...</td>\n",
       "      <td>...</td>\n",
       "    </tr>\n",
       "    <tr>\n",
       "      <th>https://openalex.org/W1995096921</th>\n",
       "      <td>https://doi.org/10.1016/j.injury.2012.07.007</td>\n",
       "      <td>A kick in the shins: The financial impact of u...</td>\n",
       "      <td>Warfarin is increasingly prescribed in the eld...</td>\n",
       "      <td>0</td>\n",
       "    </tr>\n",
       "    <tr>\n",
       "      <th>https://openalex.org/W2114922669</th>\n",
       "      <td>https://doi.org/10.1177/1076029615598222</td>\n",
       "      <td>Home Treatment of Deep Venous Thrombosis in th...</td>\n",
       "      <td>This is a retrospective cohort study of adults...</td>\n",
       "      <td>0</td>\n",
       "    </tr>\n",
       "    <tr>\n",
       "      <th>https://openalex.org/W1657669688</th>\n",
       "      <td>https://doi.org/10.1111/j.1553-2712.2010.00976.x</td>\n",
       "      <td>Prior Statin Use Is Not Associated With Improv...</td>\n",
       "      <td>The objective was to determine whether prior s...</td>\n",
       "      <td>0</td>\n",
       "    </tr>\n",
       "    <tr>\n",
       "      <th>https://openalex.org/W1994490975</th>\n",
       "      <td>https://doi.org/10.1159/000093323</td>\n",
       "      <td>A Case of Severe Dyspnea and an Unusual Bronch...</td>\n",
       "      <td>None</td>\n",
       "      <td>0</td>\n",
       "    </tr>\n",
       "    <tr>\n",
       "      <th>https://openalex.org/W1504586396</th>\n",
       "      <td>None</td>\n",
       "      <td>Use of aspirin in cardiovascular prophylaxis.</td>\n",
       "      <td>The value of prophylatic low-dose aspirin in p...</td>\n",
       "      <td>0</td>\n",
       "    </tr>\n",
       "  </tbody>\n",
       "</table>\n",
       "<p>169288 rows × 4 columns</p>\n",
       "</div>"
      ],
      "text/plain": [
       "                                                                               doi   \n",
       "openalex_id                                                                          \n",
       "https://openalex.org/W1971651073       https://doi.org/10.1016/j.exger.2007.12.002  \\\n",
       "https://openalex.org/W2060266518     https://doi.org/10.1016/s1367-5931(03)00018-8   \n",
       "https://openalex.org/W1985329347     https://doi.org/10.1016/s0162-0134(01)00376-2   \n",
       "https://openalex.org/W2033425122     https://doi.org/10.1016/s0140-6736(60)90109-4   \n",
       "https://openalex.org/W2174281073     https://doi.org/10.1016/s0016-5085(76)80455-6   \n",
       "...                                                                            ...   \n",
       "https://openalex.org/W1995096921      https://doi.org/10.1016/j.injury.2012.07.007   \n",
       "https://openalex.org/W2114922669          https://doi.org/10.1177/1076029615598222   \n",
       "https://openalex.org/W1657669688  https://doi.org/10.1111/j.1553-2712.2010.00976.x   \n",
       "https://openalex.org/W1994490975                 https://doi.org/10.1159/000093323   \n",
       "https://openalex.org/W1504586396                                              None   \n",
       "\n",
       "                                                                              title   \n",
       "openalex_id                                                                           \n",
       "https://openalex.org/W1971651073  Zinc supplementation for the treatment or prev...  \\\n",
       "https://openalex.org/W2060266518                                 Copper in medicine   \n",
       "https://openalex.org/W1985329347  Roles of metallothionein in copper homeostasis...   \n",
       "https://openalex.org/W2033425122   TREATMENT OF WILSON'S DISEASE WITH PENICILLAMINE   \n",
       "https://openalex.org/W2174281073  Effects of Anticopper Therapy on Hepatocellula...   \n",
       "...                                                                             ...   \n",
       "https://openalex.org/W1995096921  A kick in the shins: The financial impact of u...   \n",
       "https://openalex.org/W2114922669  Home Treatment of Deep Venous Thrombosis in th...   \n",
       "https://openalex.org/W1657669688  Prior Statin Use Is Not Associated With Improv...   \n",
       "https://openalex.org/W1994490975  A Case of Severe Dyspnea and an Unusual Bronch...   \n",
       "https://openalex.org/W1504586396      Use of aspirin in cardiovascular prophylaxis.   \n",
       "\n",
       "                                                                           abstract   \n",
       "openalex_id                                                                           \n",
       "https://openalex.org/W1971651073  Zinc is a nutritionally essential trace elemen...  \\\n",
       "https://openalex.org/W2060266518  Copper has been found to be causative in sever...   \n",
       "https://openalex.org/W1985329347  Metallothionein (MT) protects the body from bo...   \n",
       "https://openalex.org/W2033425122                                               None   \n",
       "https://openalex.org/W2174281073  Liver biopsy specimens from 7 patients with Wi...   \n",
       "...                                                                             ...   \n",
       "https://openalex.org/W1995096921  Warfarin is increasingly prescribed in the eld...   \n",
       "https://openalex.org/W2114922669  This is a retrospective cohort study of adults...   \n",
       "https://openalex.org/W1657669688  The objective was to determine whether prior s...   \n",
       "https://openalex.org/W1994490975                                               None   \n",
       "https://openalex.org/W1504586396  The value of prophylatic low-dose aspirin in p...   \n",
       "\n",
       "                                  label_included  \n",
       "openalex_id                                       \n",
       "https://openalex.org/W1971651073               0  \n",
       "https://openalex.org/W2060266518               0  \n",
       "https://openalex.org/W1985329347               0  \n",
       "https://openalex.org/W2033425122               0  \n",
       "https://openalex.org/W2174281073               0  \n",
       "...                                          ...  \n",
       "https://openalex.org/W1995096921               0  \n",
       "https://openalex.org/W2114922669               0  \n",
       "https://openalex.org/W1657669688               0  \n",
       "https://openalex.org/W1994490975               0  \n",
       "https://openalex.org/W1504586396               0  \n",
       "\n",
       "[169288 rows x 4 columns]"
      ]
     },
     "execution_count": 3,
     "metadata": {},
     "output_type": "execute_result"
    }
   ],
   "source": [
    "df_synergy"
   ]
  },
  {
   "cell_type": "markdown",
   "id": "ebc84cf2",
   "metadata": {},
   "source": [
    "## Total number of records and duplicates"
   ]
  },
  {
   "cell_type": "code",
   "execution_count": 4,
   "id": "7371dacf",
   "metadata": {},
   "outputs": [
    {
     "data": {
      "text/plain": [
       "3203"
      ]
     },
     "execution_count": 4,
     "metadata": {},
     "output_type": "execute_result"
    }
   ],
   "source": [
    "df_synergy.index.duplicated().sum()"
   ]
  },
  {
   "cell_type": "code",
   "execution_count": 5,
   "id": "4c6b057e",
   "metadata": {},
   "outputs": [
    {
     "data": {
      "text/plain": [
       "1.8920419639903596"
      ]
     },
     "execution_count": 5,
     "metadata": {},
     "output_type": "execute_result"
    }
   ],
   "source": [
    "df_synergy.index.duplicated().sum()/len(df_synergy)*100"
   ]
  }
 ],
 "metadata": {
  "kernelspec": {
   "display_name": "Python 3 (ipykernel)",
   "language": "python",
   "name": "python3"
  },
  "language_info": {
   "codemirror_mode": {
    "name": "ipython",
    "version": 3
   },
   "file_extension": ".py",
   "mimetype": "text/x-python",
   "name": "python",
   "nbconvert_exporter": "python",
   "pygments_lexer": "ipython3",
   "version": "3.9.7"
  }
 },
 "nbformat": 4,
 "nbformat_minor": 5
}
