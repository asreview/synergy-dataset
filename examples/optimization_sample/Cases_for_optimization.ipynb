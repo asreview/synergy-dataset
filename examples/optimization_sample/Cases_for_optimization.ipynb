{
 "cells": [
  {
   "cell_type": "markdown",
   "metadata": {},
   "source": [
    "# Cases for optimization\n",
    "\n",
    "This is a sample of 1000 studies with geometric distributed numbers of prior knowledge for both inclusions and exclusions. The number of prior knowledge is always equal or less than the number of inclusions of exclusions in the dataset minus 1. This ensures that the task is not already complete before it starts. "
   ]
  },
  {
   "cell_type": "code",
   "execution_count": null,
   "metadata": {},
   "outputs": [],
   "source": [
    "import synergy_dataset as sd\n",
    "import numpy as np"
   ]
  },
  {
   "cell_type": "code",
   "execution_count": null,
   "metadata": {},
   "outputs": [],
   "source": [
    "N_STUDIES = 1000"
   ]
  },
  {
   "cell_type": "code",
   "execution_count": null,
   "metadata": {},
   "outputs": [],
   "source": [
    "synergy_stats = []\n",
    "\n",
    "for dataset in sd.iter_datasets():\n",
    "\n",
    "    df = dataset.to_frame().reset_index()\n",
    "\n",
    "    synergy_stats.append(\n",
    "        (\n",
    "            dataset.name,\n",
    "            dataset.metadata[\"data\"][\"n_records_included\"],\n",
    "            dataset.metadata[\"data\"][\"n_records\"] - dataset.metadata[\"data\"][\"n_records_included\"],\n",
    "            df[\"label_included\"][df[\"label_included\"] == 1].index.values,\n",
    "            df[\"label_included\"][df[\"label_included\"] == 0].index.values\n",
    "        )\n",
    "    )\n",
    "\n",
    "synergy_stats"
   ]
  },
  {
   "cell_type": "code",
   "execution_count": null,
   "metadata": {},
   "outputs": [],
   "source": [
    "rng = np.random.default_rng(535165)\n",
    "\n",
    "studies = [\n",
    "    {\n",
    "        \"dataset_id\": synergy_stats[s][0],\n",
    "        \"prior_inclusions\": rng.choice(\n",
    "            synergy_stats[s][3],\n",
    "            size=min(rng.geometric(p=0.5, size=1)[0], synergy_stats[s][1] - 1),\n",
    "            replace=False,\n",
    "        ).tolist(),\n",
    "        \"prior_exclusions\": rng.choice(\n",
    "            synergy_stats[s][4],\n",
    "            size=min(rng.geometric(p=0.5, size=1)[0], synergy_stats[s][2] - 1),\n",
    "            replace=False,\n",
    "        ).tolist(),\n",
    "    }\n",
    "    for s in rng.choice(np.arange(len(synergy_stats)), N_STUDIES)\n",
    "]"
   ]
  },
  {
   "cell_type": "code",
   "execution_count": null,
   "metadata": {},
   "outputs": [],
   "source": [
    "# write the results to a json line delimited file\n",
    "\n",
    "import json\n",
    "\n",
    "with open(f\"synergy_studies_{N_STUDIES}.jsonl\", \"w\") as f:\n",
    "    for study in studies:\n",
    "        f.write(json.dumps(study) + \"\\n\")\n"
   ]
  }
 ],
 "metadata": {
  "kernelspec": {
   "display_name": "Python 3",
   "language": "python",
   "name": "python3"
  },
  "language_info": {
   "codemirror_mode": {
    "name": "ipython",
    "version": 3
   },
   "file_extension": ".py",
   "mimetype": "text/x-python",
   "name": "python",
   "nbconvert_exporter": "python",
   "pygments_lexer": "ipython3",
   "version": "3.12.0"
  }
 },
 "nbformat": 4,
 "nbformat_minor": 2
}
