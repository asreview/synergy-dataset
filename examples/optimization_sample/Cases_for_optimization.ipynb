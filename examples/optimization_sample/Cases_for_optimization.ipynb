{
 "cells": [
  {
   "cell_type": "markdown",
   "metadata": {},
   "source": [
    "# Cases for optimization\n",
    "\n",
    "This is a sample of 1000 studies with geometric (0.5) distributed numbers of prior knowledge for both inclusions and exclusions. The number of prior knowledge is always equal or less than the number of inclusions or exclusions in the dataset minus 1. This ensures that the task is not already complete before it starts. "
   ]
  },
  {
   "cell_type": "code",
   "execution_count": 1,
   "metadata": {},
   "outputs": [],
   "source": [
    "import json\n",
    "\n",
    "import synergy_dataset as sd\n",
    "import numpy as np\n",
    "import pandas as pd"
   ]
  },
  {
   "cell_type": "code",
   "execution_count": 2,
   "metadata": {},
   "outputs": [],
   "source": [
    "N = 10"
   ]
  },
  {
   "cell_type": "code",
   "execution_count": 3,
   "metadata": {},
   "outputs": [],
   "source": [
    "# create corrected moran dataset\n",
    "\n",
    "# import pandas as pd\n",
    "\n",
    "# df_shuffle = pd.read_excel(\"Moran_corrected.xlsx\").sample(frac=1, random_state=535)\n",
    "# df_shuffle[\"record_id\"] = np.arange(len(df_shuffle))\n",
    "# df_shuffle.to_csv(\"Moran_corrected.csv\", index=False)"
   ]
  },
  {
   "cell_type": "code",
   "execution_count": 4,
   "metadata": {},
   "outputs": [],
   "source": [
    "synergy_stats = {}\n",
    "\n",
    "for dataset in sd.iter_datasets():\n",
    "    # corrections\n",
    "    if dataset.name == \"Chou_2004\":\n",
    "        continue\n",
    "\n",
    "    if dataset.name == \"Moran_2021\":\n",
    "        df_moran = pd.read_csv(\"Moran_2021_corrected.csv\")\n",
    "        synergy_stats[\"Moran_2021_corrected\"] = {\n",
    "            \"inclusions\": df_moran[df_moran == 1].index.values,\n",
    "            \"exclusions\": df_moran[df_moran == 0].index.values,\n",
    "        }\n",
    "        continue\n",
    "\n",
    "    df = dataset.to_frame().reset_index()\n",
    "\n",
    "    synergy_stats[dataset.name] = {\n",
    "        \"inclusions\": df[\"label_included\"][df[\"label_included\"] == 1].index.values,\n",
    "        \"exclusions\": df[\"label_included\"][df[\"label_included\"] == 0].index.values,\n",
    "    }"
   ]
  },
  {
   "cell_type": "markdown",
   "metadata": {},
   "source": [
    "## Sample the full study"
   ]
  },
  {
   "cell_type": "code",
   "execution_count": 5,
   "metadata": {},
   "outputs": [],
   "source": [
    "rng = np.random.default_rng(535)\n",
    "\n",
    "studies = [\n",
    "    {\n",
    "        \"dataset_id\": str(s),\n",
    "        \"prior_inclusions\": rng.choice(\n",
    "            synergy_stats[s][\"inclusions\"],\n",
    "            size=min(rng.geometric(p=0.5, size=1)[0], len(synergy_stats[s][\"inclusions\"]) - 1),\n",
    "            replace=False,\n",
    "        ).tolist(),\n",
    "        \"prior_exclusions\": rng.choice(\n",
    "            synergy_stats[s][\"exclusions\"],\n",
    "            size=min(rng.geometric(p=0.5, size=1)[0], len(synergy_stats[s][\"exclusions\"]) - 1),\n",
    "            replace=False,\n",
    "        ).tolist(),\n",
    "    }\n",
    "    for s in rng.choice(list(synergy_stats.keys()), len(synergy_stats) * N)\n",
    "]\n",
    "\n",
    "# studies"
   ]
  },
  {
   "cell_type": "code",
   "execution_count": 6,
   "metadata": {},
   "outputs": [],
   "source": [
    "# write the results to a json line delimited file\n",
    "\n",
    "with open(\"synergy_studies_full.jsonl\", \"w\") as f:\n",
    "    for study in studies:\n",
    "        f.write(json.dumps(study) + \"\\n\")"
   ]
  },
  {
   "cell_type": "markdown",
   "metadata": {},
   "source": [
    "## Sample the small study"
   ]
  },
  {
   "cell_type": "code",
   "execution_count": 7,
   "metadata": {},
   "outputs": [],
   "source": [
    "rng = np.random.default_rng(165)\n",
    "\n",
    "studies = [\n",
    "    {\n",
    "        \"dataset_id\": str(s),\n",
    "        \"prior_inclusions\": rng.choice(\n",
    "            synergy_stats[s][\"inclusions\"],\n",
    "            size=min(rng.geometric(p=0.5, size=1)[0], len(synergy_stats[s][\"inclusions\"]) - 1),\n",
    "            replace=False,\n",
    "        ).tolist(),\n",
    "        \"prior_exclusions\": rng.choice(\n",
    "            synergy_stats[s][\"exclusions\"],\n",
    "            size=min(rng.geometric(p=0.5, size=1)[0], len(synergy_stats[s][\"exclusions\"]) - 1),\n",
    "            replace=False,\n",
    "        ).tolist(),\n",
    "    }\n",
    "    for s in [s for s in synergy_stats] * 2\n",
    "]"
   ]
  },
  {
   "cell_type": "code",
   "execution_count": 8,
   "metadata": {},
   "outputs": [],
   "source": [
    "# write the results to a json line delimited file\n",
    "\n",
    "with open(\"synergy_studies_demo.jsonl\", \"w\") as f:\n",
    "    for study in studies:\n",
    "        f.write(json.dumps(study) + \"\\n\")"
   ]
  }
 ],
 "metadata": {
  "kernelspec": {
   "display_name": "asreview-dev",
   "language": "python",
   "name": "python3"
  },
  "language_info": {
   "codemirror_mode": {
    "name": "ipython",
    "version": 3
   },
   "file_extension": ".py",
   "mimetype": "text/x-python",
   "name": "python",
   "nbconvert_exporter": "python",
   "pygments_lexer": "ipython3",
   "version": "3.12.0"
  }
 },
 "nbformat": 4,
 "nbformat_minor": 2
}
